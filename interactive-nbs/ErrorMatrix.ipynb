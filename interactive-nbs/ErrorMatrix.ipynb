{
 "cells": [
  {
   "cell_type": "markdown",
   "metadata": {},
   "source": [
    "# Interactive Example - Error Matrix"
   ]
  },
  {
   "cell_type": "code",
   "execution_count": 20,
   "metadata": {},
   "outputs": [],
   "source": [
    "from ipywidgets import interactive\n",
    "import ipywidgets as widgets\n",
    "import numpy as np\n",
    "import matplotlib.pyplot as plt"
   ]
  },
  {
   "cell_type": "code",
   "execution_count": 26,
   "metadata": {},
   "outputs": [],
   "source": [
    "def ellipse(x, y, a, b):\n",
    "    return (x/a)**2 + (y/b)**2 - 1"
   ]
  },
  {
   "cell_type": "code",
   "execution_count": 27,
   "metadata": {},
   "outputs": [],
   "source": [
    "def draw_ellipses(theta, sigma_x, sigma_y):\n",
    "    fig, ax = plt.subplots(figsize=(10, 10))\n",
    "\n",
    "    # Ellipse one\n",
    "    x = np.linspace(-1, 1, 100)\n",
    "    y = np.linspace(-1, 1, 100)\n",
    "    X, Y = np.meshgrid(x, y)\n",
    "    Z = ellipse(X, Y, sigma_x, sigma_y)\n",
    "    #ax.contour(X, Y, Z, levels=[0], colors='b') \n",
    "\n",
    "    # Ellipse two\n",
    "    x_prime = x*np.cos(theta) - y*np.sin(theta)\n",
    "    y_prime = x*np.sin(theta) + y*np.cos(theta)\n",
    "    X_prime, Y_prime = np.meshgrid(x_prime, y_prime)\n",
    "    Z_prime = ellipse(X_prime, Y_prime, sigma_x, sigma_y)\n",
    "    ax.contour(X_prime, Y_prime, Z_prime, levels=[0], colors='r')\n",
    "\n",
    "    ax.set_xlim(-1, 1)\n",
    "    ax.set_ylim(-1, 1)\n",
    "\n",
    "    plt.show();"
   ]
  },
  {
   "cell_type": "code",
   "execution_count": 28,
   "metadata": {},
   "outputs": [
    {
     "data": {
      "application/vnd.jupyter.widget-view+json": {
       "model_id": "80e592ace0644ce5a330e0f8bcbc1a66",
       "version_major": 2,
       "version_minor": 0
      },
      "text/plain": [
       "interactive(children=(FloatSlider(value=0.0, description='theta', max=12.566370614359172), FloatSlider(value=0…"
      ]
     },
     "metadata": {},
     "output_type": "display_data"
    }
   ],
   "source": [
    "slider_plots = interactive(\n",
    "    draw_ellipses,\n",
    "    theta = widgets.FloatSlider(\n",
    "        value=np.pi/4,\n",
    "        min=0,\n",
    "        max=4*np.pi,\n",
    "        step=0.1,\n",
    "        description='theta',\n",
    "    ),\n",
    "    sigma_x = widgets.FloatSlider(\n",
    "        value=0.25,\n",
    "        min=0.1,\n",
    "        max=0.5,\n",
    "        step=0.01,\n",
    "        description='sigma_x',\n",
    "    ),\n",
    "    sigma_y = widgets.FloatSlider(\n",
    "        value=0.5,\n",
    "        min=0.1,\n",
    "        max=0.5,\n",
    "        step=0.01,\n",
    "        description='sigma_y',\n",
    "    )\n",
    ")\n",
    "display(slider_plots)"
   ]
  },
  {
   "cell_type": "code",
   "execution_count": null,
   "metadata": {},
   "outputs": [],
   "source": []
  }
 ],
 "metadata": {
  "interpreter": {
   "hash": "66967b523d1b932d6ec2d9a652b8c475bdc1561c84715340ba09531003270d1e"
  },
  "kernelspec": {
   "display_name": "Python 3.9.9 64-bit ('stamet-jb': conda)",
   "language": "python",
   "name": "python3"
  },
  "language_info": {
   "codemirror_mode": {
    "name": "ipython",
    "version": 3
   },
   "file_extension": ".py",
   "mimetype": "text/x-python",
   "name": "python",
   "nbconvert_exporter": "python",
   "pygments_lexer": "ipython3",
   "version": "3.10.2"
  },
  "orig_nbformat": 4
 },
 "nbformat": 4,
 "nbformat_minor": 2
}
